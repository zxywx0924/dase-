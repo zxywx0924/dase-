{
 "cells": [
  {
   "cell_type": "code",
   "execution_count": 4,
   "id": "bf13747d-e66f-4dd8-9bae-b6d99722eced",
   "metadata": {},
   "outputs": [
    {
     "name": "stdin",
     "output_type": "stream",
     "text": [
      "请输入第一个正整数:  12\n",
      "请输入第二个正整数:  8\n"
     ]
    },
    {
     "name": "stdout",
     "output_type": "stream",
     "text": [
      "最大公约数是: 4\n"
     ]
    }
   ],
   "source": [
    "#1. 编写 Python 程序，求两个正整数的最大公约数。\n",
    "def gcd(a, b):\n",
    "    while b != 0:\n",
    "        a, b = b, a % b\n",
    "    return a\n",
    "\n",
    "num1 = int(input(\"请输入第一个正整数: \"))\n",
    "num2 = int(input(\"请输入第二个正整数: \"))\n",
    "result = gcd(num1, num2)\n",
    "print(\"最大公约数是:\", result)\n"
   ]
  },
  {
   "cell_type": "code",
   "execution_count": 2,
   "id": "26627737-f8cf-4a01-8174-adab7360b76b",
   "metadata": {},
   "outputs": [
    {
     "name": "stdin",
     "output_type": "stream",
     "text": [
      "请输入分数（百分制）： 28\n"
     ]
    },
    {
     "name": "stdout",
     "output_type": "stream",
     "text": [
      "不合格\n"
     ]
    }
   ],
   "source": [
    "#2. 用if语句实现百分制转等级制（考试成绩，60分以下不合格，60—74分合格，75—89分为良好，90分以上为优秀）。\n",
    "point = int(input(\"请输入分数（百分制）：\"))\n",
    "if point < 60:\n",
    "    print(\"不合格\")\n",
    "elif point <= 74:\n",
    "    print(\"合格\")\n",
    "elif point <= 89:\n",
    "    print(\"良好\")\n",
    "else:\n",
    "    print(\"优秀\")"
   ]
  },
  {
   "cell_type": "code",
   "execution_count": 5,
   "id": "bf278c51-5ddf-448b-879b-a10ba17fe5de",
   "metadata": {},
   "outputs": [
    {
     "name": "stdin",
     "output_type": "stream",
     "text": [
      "请输入一个十进制小数： 23.823\n",
      "请输入转换的精度（小数点后的位数）： 4\n"
     ]
    },
    {
     "name": "stdout",
     "output_type": "stream",
     "text": [
      "二进制表示为：10111.1101\n"
     ]
    }
   ],
   "source": [
    "#3. 编写Python程序，完成十到二进制小数的转换\n",
    "def decimal_to_binary_integer(n):\n",
    "    binary_integer = \"\"\n",
    "    while n > 0:\n",
    "        binary_integer = str(n % 2) + binary_integer\n",
    "        n = n // 2\n",
    "    return binary_integer if binary_integer else \"0\"\n",
    "\n",
    "def decimal_to_binary_fractional(fraction, precision=10):\n",
    "    binary_fractional = \"\"\n",
    "    while fraction > 0 and len(binary_fractional) < precision:\n",
    "        fraction *= 2\n",
    "        bit = int(fraction)\n",
    "        binary_fractional += str(bit)\n",
    "        fraction -= bit\n",
    "    return binary_fractional\n",
    "    \n",
    "def decimal_to_binary(decimal_number, precision=10):\n",
    "    integer_part = int(decimal_number)\n",
    "    fractional_part = decimal_number - integer_part\n",
    "    \n",
    "    binary_integer = decimal_to_binary_integer(integer_part)\n",
    "    binary_fractional = decimal_to_binary_fractional(fractional_part, precision)\n",
    "    \n",
    "    if binary_fractional:\n",
    "        return f\"{binary_integer}.{binary_fractional}\"\n",
    "    else:\n",
    "        return binary_integer\n",
    "\n",
    "decimal_number = float(input(\"请输入一个十进制小数：\"))\n",
    "precision = int(input(\"请输入转换的精度（小数点后的位数）：\"))\n",
    "binary_number = decimal_to_binary(decimal_number, precision)\n",
    "\n",
    "print(f\"二进制表示为：{binary_number}\")\n"
   ]
  },
  {
   "cell_type": "code",
   "execution_count": 6,
   "id": "b44e8bbc-01e2-4860-8ae6-6d2d9ae86099",
   "metadata": {},
   "outputs": [
    {
     "name": "stdout",
     "output_type": "stream",
     "text": [
      "随机浮点数: 13.641375058814079\n"
     ]
    }
   ],
   "source": [
    "#4. 编写Python程序，产生10-20的随机浮点数\n",
    "import random\n",
    "\n",
    "random_float = random.uniform(10, 20)\n",
    "print(\"随机浮点数:\", random_float)\n"
   ]
  },
  {
   "cell_type": "code",
   "execution_count": 8,
   "id": "f5332132-0296-4f73-8410-79388eb7c8d9",
   "metadata": {},
   "outputs": [
    {
     "name": "stdin",
     "output_type": "stream",
     "text": [
      "请输入一个整数: 2731\n"
     ]
    },
    {
     "name": "stdout",
     "output_type": "stream",
     "text": [
      "这个整数不是回文数\n"
     ]
    }
   ],
   "source": [
    "#5. 编写一个Python函数，判断一个整数是否是回文数。回文数是指正序（从左向右）和倒序（从右向左）读都是一样的数。\n",
    "a = str(input(\"请输入一个整数:\"))\n",
    "check = True\n",
    "for i in range(len(a)//2):\n",
    "    if a[i] != a[len(a)-1-i]:\n",
    "        check = False\n",
    "        break\n",
    "if check == True:\n",
    "    print(\"这个整数是回文数\")\n",
    "else:\n",
    "    print(\"这个整数不是回文数\")"
   ]
  },
  {
   "cell_type": "code",
   "execution_count": 10,
   "id": "f14ad454-41f1-47f5-812a-49e5935c9b37",
   "metadata": {},
   "outputs": [
    {
     "name": "stdin",
     "output_type": "stream",
     "text": [
      "请输入一个整数: 6\n"
     ]
    },
    {
     "name": "stdout",
     "output_type": "stream",
     "text": [
      "[0, 1, 1, 2, 3, 5]\n"
     ]
    }
   ],
   "source": [
    "#6.编写一个Python函数，返回一个包含斐波那契数列的前N个数的列表。斐波那契数列是一个数列，其中每个数是前两个数的和，数列以0和1开始。\n",
    "n = int(input(\"请输入一个整数:\"))\n",
    "a = [0, 1]\n",
    "for i in range(2,n):\n",
    "    a.append(a[i-1]+a[i-2])\n",
    "print(a)"
   ]
  },
  {
   "cell_type": "code",
   "execution_count": 11,
   "id": "5ec3b06b-7710-47b2-8fd1-88610b288322",
   "metadata": {},
   "outputs": [
    {
     "name": "stdin",
     "output_type": "stream",
     "text": [
      "请输入一组整数，以空格分隔： 2 3 1 12 45 12\n"
     ]
    },
    {
     "name": "stdout",
     "output_type": "stream",
     "text": [
      "12\n"
     ]
    }
   ],
   "source": [
    "#7.编写一个Python函数，接受一个整数数组作为输入，返回数组中第二大的数。如果数组中只有一个元素或数组为空，则返回-1。\n",
    "import heapq\n",
    "\n",
    "def find_second_largest(nums):\n",
    "    unique_nums = list(set(nums))\n",
    "    if len(unique_nums) < 2:\n",
    "        return None\n",
    "    largest_two = heapq.nlargest(2, unique_nums)\n",
    "    return largest_two[1]\n",
    "\n",
    "user_input = input(\"请输入一组整数，以空格分隔：\")\n",
    "array = list(map(int, user_input.split()))\n",
    "if len(array) < 2:\n",
    "    print(-1)\n",
    "else:\n",
    "    print(find_second_largest(array))\n"
   ]
  },
  {
   "cell_type": "code",
   "execution_count": 12,
   "id": "724ed232-59a6-4487-8eba-a93a71a81683",
   "metadata": {},
   "outputs": [
    {
     "ename": "SyntaxError",
     "evalue": "invalid decimal literal (1397102146.py, line 11)",
     "output_type": "error",
     "traceback": [
      "\u001b[1;36m  Cell \u001b[1;32mIn[12], line 11\u001b[1;36m\u001b[0m\n\u001b[1;33m    print(validate_id_card(50012320012103023x))\u001b[0m\n\u001b[1;37m                                           ^\u001b[0m\n\u001b[1;31mSyntaxError\u001b[0m\u001b[1;31m:\u001b[0m invalid decimal literal\n"
     ]
    }
   ],
   "source": [
    "#8. 编写一个函数，使其能够用正则表达式的方式简单验证身份证号是否合法。\n",
    "import re\n",
    "\n",
    "def validate_id_card(id_card):\n",
    "    pattern = r'^[1-9]\\d{5}(19|20)\\d{2}(0[1-9]|1[0-2])(0[1-9]|[1-2]\\d|3[0-1])\\d{3}(\\d|X|x)$'\n",
    "    if re.match(pattern, id_card):\n",
    "        return True  \n",
    "    else:\n",
    "        return False  \n",
    "\n",
    "print(validate_id_card(50012320012103023x))"
   ]
  },
  {
   "cell_type": "code",
   "execution_count": null,
   "id": "a76d7c8a-9b5b-428b-8113-2f2e47d9ae17",
   "metadata": {},
   "outputs": [],
   "source": []
  }
 ],
 "metadata": {
  "kernelspec": {
   "display_name": "Python 3 (ipykernel)",
   "language": "python",
   "name": "python3"
  },
  "language_info": {
   "codemirror_mode": {
    "name": "ipython",
    "version": 3
   },
   "file_extension": ".py",
   "mimetype": "text/x-python",
   "name": "python",
   "nbconvert_exporter": "python",
   "pygments_lexer": "ipython3",
   "version": "3.11.7"
  }
 },
 "nbformat": 4,
 "nbformat_minor": 5
}
