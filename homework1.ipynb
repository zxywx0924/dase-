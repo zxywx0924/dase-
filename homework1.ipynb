{
 "cells": [
  {
   "cell_type": "code",
   "execution_count": 7,
   "id": "62d867fd-0ce0-4b75-b665-b643e248f16b",
   "metadata": {},
   "outputs": [
    {
     "name": "stdout",
     "output_type": "stream",
     "text": [
      "★★★★★★★★★★★\n",
      "★数据科学与工程导论★\n",
      "★★★★★★★★★★★\n"
     ]
    }
   ],
   "source": [
    "#编写Python程序，打印\"数据科学与工程导论\"，并使用 print(chr(0x2605)) 语句将星星包围起来。\n",
    "input_text = \"数据科学与工程导论\"\n",
    "length = len(input_text)\n",
    "for i in range(length+2):\n",
    "    print(chr(0x2605), end='')\n",
    "print()\n",
    "print(chr(0x2605), end='')\n",
    "print(input_text,end='')\n",
    "print(chr(0x2605))\n",
    "for i in range(length+2):\n",
    "    print(chr(0x2605), end='')\n",
    "print()  \n"
   ]
  },
  {
   "cell_type": "code",
   "execution_count": 16,
   "id": "73c11e52-0e1a-4494-bbf5-445ee588152b",
   "metadata": {},
   "outputs": [
    {
     "name": "stdin",
     "output_type": "stream",
     "text": [
      "请输入第一个浮点数:  12.3\n",
      "请输入第二个浮点数:  123.2\n",
      "请输入第三个浮点数:  123.2\n"
     ]
    },
    {
     "name": "stdout",
     "output_type": "stream",
     "text": [
      "12.3\n",
      "123.2\n",
      "123.2\n"
     ]
    }
   ],
   "source": [
    "# 写一个 Python 程序，输入 x, y, z 这三个数，将这三个数从小到大使用 print 函数打印出来。\n",
    "x = float(input(\"请输入第一个浮点数: \"))\n",
    "y = float(input(\"请输入第二个浮点数: \"))\n",
    "z = float(input(\"请输入第三个浮点数: \"))\n",
    "\n",
    "numbers = [x, y, z]\n",
    "numbers.sort()\n",
    "for i in numbers:\n",
    "    print(i)\n",
    "\n"
   ]
  },
  {
   "cell_type": "code",
   "execution_count": 9,
   "id": "e47f9c8a-3fa0-4f61-ab6b-59d4041a1357",
   "metadata": {},
   "outputs": [
    {
     "name": "stdin",
     "output_type": "stream",
     "text": [
      "请输入第一个浮点数: 13\n",
      "请输入第二个浮点数: 15.2\n",
      "请输入第三个浮点数: 26.1\n",
      "请输入第四个浮点数: 67.2\n"
     ]
    },
    {
     "name": "stdout",
     "output_type": "stream",
     "text": [
      "67.2\n",
      "26.1\n",
      "15.2\n",
      "13.0\n"
     ]
    }
   ],
   "source": [
    "#写一个 Python 程序，有 w, x, y, z 四个数，将这四个数从大到小使用 print 函数打印出来\n",
    "x = float(input(\"请输入第一个浮点数:\"))\n",
    "y = float(input(\"请输入第二个浮点数:\"))\n",
    "z = float(input(\"请输入第三个浮点数:\"))\n",
    "w = float(input(\"请输入第四个浮点数:\"))\n",
    "numbers = [x, y, z, w]\n",
    "numbers.sort(reverse = True)\n",
    "for i in numbers:\n",
    "    print(i)\n",
    "                "
   ]
  },
  {
   "cell_type": "code",
   "execution_count": 10,
   "id": "3bc8f512-d995-41b7-abba-7078edae1039",
   "metadata": {},
   "outputs": [
    {
     "name": "stdout",
     "output_type": "stream",
     "text": [
      "1\n",
      "3\n",
      "5\n",
      "7\n",
      "9\n",
      "11\n",
      "13\n",
      "15\n",
      "17\n",
      "19\n",
      "21\n",
      "23\n",
      "25\n",
      "27\n",
      "29\n",
      "31\n",
      "33\n",
      "35\n",
      "37\n",
      "39\n",
      "41\n",
      "43\n",
      "45\n",
      "47\n",
      "49\n",
      "51\n",
      "53\n",
      "55\n",
      "57\n",
      "59\n",
      "61\n",
      "63\n",
      "65\n",
      "67\n",
      "69\n",
      "71\n",
      "73\n",
      "75\n",
      "77\n",
      "79\n",
      "81\n",
      "83\n",
      "85\n",
      "87\n",
      "89\n",
      "91\n",
      "93\n",
      "95\n",
      "97\n",
      "99\n"
     ]
    }
   ],
   "source": [
    "#写一个 Python 程序，输出 1-100 中的所有奇数。\n",
    "for i in range(1,101):\n",
    "    if i%2==1:\n",
    "        print(i)"
   ]
  },
  {
   "cell_type": "code",
   "execution_count": 12,
   "id": "1b03d24e-0c71-4192-a689-c35c8a2fdd51",
   "metadata": {},
   "outputs": [
    {
     "name": "stdout",
     "output_type": "stream",
     "text": [
      "5050\n"
     ]
    }
   ],
   "source": [
    "#写一个 Python 程序，用 for 循环，求解 1 到 100 的和\n",
    "sum = 0\n",
    "for i in range(1,101):\n",
    "    sum += i\n",
    "print(sum)"
   ]
  },
  {
   "cell_type": "code",
   "execution_count": 17,
   "id": "7d6e153f-b2fc-4e62-bc2f-684dee960171",
   "metadata": {},
   "outputs": [
    {
     "name": "stdin",
     "output_type": "stream",
     "text": [
      "请输入一系列数字（用空格分隔）:  12 34 12 3 2\n"
     ]
    },
    {
     "name": "stdout",
     "output_type": "stream",
     "text": [
      "2.0 3.0 12.0 34.0 12.0 \n",
      "2.0 3.0 12.0 34.0 12.0 \n"
     ]
    }
   ],
   "source": [
    "#写一个 Python 程序，分别用 for 和 while 循环实现对一个给定序列的倒排序输出。例如，给定 L=[1,2,3,4,5]，输出为 [5,4,3,2,1]。\n",
    "input_sequence = input(\"请输入一系列数字（用空格分隔）: \")\n",
    "L = list(map(float, input_sequence.split()))\n",
    "for i in range(len(L) - 1, -1, -1):\n",
    "    print(L[i], end=' ')\n",
    "print()  \n",
    "\n",
    "index = len(L) - 1\n",
    "while index >= 0:\n",
    "    print(L[index], end=' ')\n",
    "    index -= 1\n",
    "print() \n"
   ]
  },
  {
   "cell_type": "code",
   "execution_count": 21,
   "id": "b4b4eb08-26a8-45e8-aa4e-f84149138482",
   "metadata": {},
   "outputs": [
    {
     "name": "stdin",
     "output_type": "stream",
     "text": [
      "请输入一个字符串:  asdjas\n"
     ]
    },
    {
     "name": "stdout",
     "output_type": "stream",
     "text": [
      "字符串中没有相邻相同的字符\n"
     ]
    }
   ],
   "source": [
    "#写一个 Python 程序，判断一个输入的字符串 S 是否包含由两个或两个以上连续出现的相同字符组成的字符串。例如，abccccda 中就包含 cccc 这个由 4 个连续字符组成的字符串。\n",
    "s = input(\"请输入一个字符串: \")\n",
    "i = 0\n",
    "found = False\n",
    "while i<len(s)-1:\n",
    "    if s[i+1]==s[i]:\n",
    "        found = True\n",
    "    i+=1  \n",
    "if found:\n",
    "    print(\"字符串中有相邻相同的字符\")\n",
    "else:\n",
    "    print(\"字符串中没有相邻相同的字符\")"
   ]
  },
  {
   "cell_type": "code",
   "execution_count": 22,
   "id": "42c81a22-0988-4db1-b9b8-0865965c80ec",
   "metadata": {},
   "outputs": [
    {
     "name": "stdin",
     "output_type": "stream",
     "text": [
      "请输入一个字符串:  as asdkj qwjk\n"
     ]
    },
    {
     "name": "stdout",
     "output_type": "stream",
     "text": [
      "去掉空格后的字符串: asasdkjqwjk\n"
     ]
    }
   ],
   "source": [
    "#写一个 Python 程序，输入一个字符串 S，去掉其中所有的空格后输出。例如，“DataScience and Engineering”，去掉空格后为“DataScienceandEngineering”。\n",
    "s = input(\"请输入一个字符串: \")\n",
    "s_new = s.replace(\" \", \"\")\n",
    "print(\"去掉空格后的字符串:\", s_new)\n"
   ]
  },
  {
   "cell_type": "code",
   "execution_count": 23,
   "id": "0edef5ab-1e43-4294-bbd0-ce6ece4ab69e",
   "metadata": {},
   "outputs": [
    {
     "name": "stdin",
     "output_type": "stream",
     "text": [
      "请输入一个数字:  27\n"
     ]
    },
    {
     "name": "stdout",
     "output_type": "stream",
     "text": [
      "3.0\n"
     ]
    }
   ],
   "source": [
    "#请设计一个求 3 次方根的算法（不允许直接调用求方根的函数），并给出对应的 Python 程序。 采用牛顿迭代法求解，迭代过程数学公式表示为： \n",
    "def cube_root(n, tolerance=1e-10):\n",
    "    guess = n / 3.0    \n",
    "    while True:\n",
    "        new_guess = (2 * guess + n / (guess ** 2)) / 3\n",
    "        if abs(new_guess - guess) < tolerance:\n",
    "            return new_guess\n",
    "        guess = new_guess\n",
    "number = float(input(\"请输入一个数字: \"))\n",
    "result = cube_root(number)\n",
    "print(result)\n"
   ]
  },
  {
   "cell_type": "code",
   "execution_count": 25,
   "id": "1cd7005f-64e6-4e7b-a3b9-dd443788f44a",
   "metadata": {},
   "outputs": [
    {
     "name": "stdin",
     "output_type": "stream",
     "text": [
      "请输入一个常数: 23\n"
     ]
    },
    {
     "name": "stdout",
     "output_type": "stream",
     "text": [
      "25852016738884976640000\n"
     ]
    }
   ],
   "source": [
    "#写一个 Python 程序，给定一个常数 n（n>0），求 n 的阶乘，即 n!=1×2×...×(n-1)×n。例如，4!=24，5!=120。\n",
    "n = int(input(\"请输入一个常数:\"))\n",
    "sum = 1\n",
    "for i in range(2, n+1):\n",
    "    sum*=i\n",
    "print(sum)"
   ]
  },
  {
   "cell_type": "code",
   "execution_count": null,
   "id": "21f45b52-11ed-49b9-9e02-4d1885716bff",
   "metadata": {},
   "outputs": [],
   "source": []
  }
 ],
 "metadata": {
  "kernelspec": {
   "display_name": "Python 3 (ipykernel)",
   "language": "python",
   "name": "python3"
  },
  "language_info": {
   "codemirror_mode": {
    "name": "ipython",
    "version": 3
   },
   "file_extension": ".py",
   "mimetype": "text/x-python",
   "name": "python",
   "nbconvert_exporter": "python",
   "pygments_lexer": "ipython3",
   "version": "3.11.7"
  }
 },
 "nbformat": 4,
 "nbformat_minor": 5
}
