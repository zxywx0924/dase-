{
 "cells": [
  {
   "cell_type": "markdown",
   "id": "a49ad029-185c-44ae-9e10-4d2510a1f993",
   "metadata": {},
   "source": [
    "# 机器学习2\n",
    "互联网中充斥着大量钓鱼欺诈类网站。这类非法网站通常试图掩人耳目、充当正规网站，而实际上却是在窃取用户的身份、密码、交易等重要信息 机器学习在信息安全领域中的一个重要应用就是用来识别这些钓鱼网站。fraudulent.csv在data文件夹中。\n",
    "\n",
    "fraudulent.csv文件中含有10,086条数据，每条数据含有18个特征以及1个标签。各个特征的含义如下：\n",
    "\n",
    "contain_IP：网址中是否包涵ip，比如http://121.99.3.123/fake.html 包含ip。1表示包含，0表示不包含；\n",
    "is_long：网址字符是否过长。1表示网址过长，0表示网址不长；\n",
    "is_tinyurl：网址是否是短网址。比如https://bit.ly/2kXX6jV 就是短网址。1表示是短网址，0表示不是；\n",
    "contain_at：网址是否包含“@”符号。1表示包含，0表示不包含；\n",
    "contain_double_slash：网址是否包含“//”符号，该符号用来表示网址跳转。1表示包含，0表示不包含；\n",
    "contain_dash：网址是否包含“-”符号，该符号经常帮助用来伪装真网站，比如www.my-taobao.com 。 1表示包含，0表示不包含；\n",
    "contain_subdomain：网址是否包含子域名，比如www.ecnu.edu.cn 就包含edu和cn子域名。1表示包含，0表示不包含；\n",
    "is_SSL：网址是否是https安全链接。1表示包含，0表示不包含；\n",
    "with_long_history：网址所属的主域名存在的时间。1表示长久，0表示不长久；\n",
    "contain_icon：网址网页是否有小图标。1表示包含，0表示不包含；\n",
    "contain_ext_domain：该网页是否加载其他域名下的附件或者网页。1表示包含，0表示不包含；\n",
    "contain_email_to：该网页是否包含发送邮件的组件。1表示包含，0表示不包含；\n",
    "allow_right_click：该网页是否允许用户进行右击操作。1表示允许，0表示不允许；\n",
    "contain_pop_up_windowL：该网页是否包含弹窗。1表示包含，0表示不包含；\n",
    "contain_Iframe：该网页是否包含Iframe（嵌套网页）。1表示包含，0表示不包含；\n",
    "has_DNSRecord：网址是否有DNS记录。1表示有，0表示无；\n",
    "traffic：该网站的流量大小。1表示大，0表示小；\n",
    "google_rank：该网址在google搜索中的排名。1表示高于同类网站的平均排名，0表示低于同类网站的平均排名；\n",
    "\n",
    "y：表示网站是否是钓鱼欺诈网站，1表示是，0表示不是。\n",
    "原始数据中含有大量缺失值，请自行处理这些缺失值（可以剔除缺失值过多的列或者使用众数填充等方法）。\n",
    "将原始数据分为训练集、测试集（随机种子请设置为1）（若有需要可以将训练集进一步分为训练集和验证集）。\n",
    "\n",
    "现在请建立一个二分类模型，使用训练集训练模型，再使用测试集测试模型。\n",
    "\n",
    "评估指标为F1值\n",
    "\n",
    "分类模型可采用：k-近邻、决策树、逻辑回归、支持向量机等。\n",
    "\n",
    "可以与周围同学比较一下F1值的大小（越接近1越好），看看谁的数据预处理和分类模型更强。"
   ]
  },
  {
   "cell_type": "code",
   "execution_count": 6,
   "id": "7785c68f",
   "metadata": {},
   "outputs": [],
   "source": [
    "# 导入必要的库\n",
    "from sklearn.impute import SimpleImputer\n",
    "from sklearn.model_selection import train_test_split\n",
    "from sklearn.neighbors import KNeighborsClassifier\n",
    "from sklearn.tree import DecisionTreeClassifier\n",
    "from sklearn.linear_model import LogisticRegression\n",
    "from sklearn.svm import SVC\n",
    "from sklearn.metrics import f1_score\n",
    "from sklearn.preprocessing import StandardScaler\n",
    "from sklearn.ensemble import RandomForestClassifier"
   ]
  },
  {
   "cell_type": "code",
   "execution_count": 7,
   "id": "9037f700",
   "metadata": {},
   "outputs": [],
   "source": [
    "# 导入数据\n",
    "df = pd.read_csv(r'data/fraudulent.csv') "
   ]
  },
  {
   "cell_type": "code",
   "execution_count": 8,
   "id": "411f4c22",
   "metadata": {},
   "outputs": [],
   "source": [
    "#数据处理\n",
    "#填充缺失值（众数）\n",
    "imputer = SimpleImputer(strategy='most_frequent')\n",
    "df_imputed = pd.DataFrame(imputer.fit_transform(df), columns=df.columns)\n"
   ]
  },
  {
   "cell_type": "code",
   "execution_count": 9,
   "id": "2ea932a0",
   "metadata": {},
   "outputs": [],
   "source": [
    "\n",
    "X = df_imputed.drop(columns=['y'])  # 特征\n",
    "y = df_imputed['y']  # 标签\n"
   ]
  },
  {
   "cell_type": "code",
   "execution_count": 10,
   "id": "e2575fc8",
   "metadata": {},
   "outputs": [
    {
     "name": "stdout",
     "output_type": "stream",
     "text": [
      "F1 Scores:\n",
      "K-Nearest Neighbors: 0.8357\n",
      "Decision Tree: 0.8714\n",
      "Logistic Regression: 0.8548\n",
      "Support Vector Machine: 0.8673\n",
      "\n",
      "Best model: Decision Tree with F1 score: 0.8714\n"
     ]
    }
   ],
   "source": [
    "# 划分训练集和测试集\n",
    "X_train, X_test, y_train, y_test = train_test_split(X, y, test_size=0.3, random_state=1)\n",
    "\n",
    "# 数据标准化（尤其是对k-近邻和支持向量机非常重要）\n",
    "scaler = StandardScaler()\n",
    "X_train_scaled = scaler.fit_transform(X_train)\n",
    "X_test_scaled = scaler.transform(X_test)\n",
    "\n",
    "# 初始化模型\n",
    "models = {\n",
    "    'K-Nearest Neighbors': KNeighborsClassifier(),\n",
    "    'Decision Tree': DecisionTreeClassifier(),\n",
    "    'Logistic Regression': LogisticRegression(),\n",
    "    'Support Vector Machine': SVC()\n",
    "}\n",
    "\n",
    "# 训练并评估模型\n",
    "f1_scores = {}\n",
    "for model_name, model in models.items():\n",
    "    # 训练模型\n",
    "    model.fit(X_train_scaled, y_train)\n",
    "    \n",
    "    # 预测并计算F1值\n",
    "    y_pred = model.predict(X_test_scaled)\n",
    "    f1 = f1_score(y_test, y_pred)\n",
    "    \n",
    "    # 存储F1值\n",
    "    f1_scores[model_name] = f1\n",
    "\n",
    "# 输出每个模型的F1值\n",
    "print(\"F1 Scores:\")\n",
    "for model_name, f1 in f1_scores.items():\n",
    "    print(f\"{model_name}: {f1:.4f}\")\n",
    "\n",
    "# 选择F1值最大的模型\n",
    "best_model_name = max(f1_scores, key=f1_scores.get)\n",
    "best_model_f1 = f1_scores[best_model_name]\n",
    "print(f\"\\nBest model: {best_model_name} with F1 score: {best_model_f1:.4f}\")"
   ]
  }
 ],
 "metadata": {
  "kernelspec": {
   "display_name": "base",
   "language": "python",
   "name": "python3"
  },
  "language_info": {
   "codemirror_mode": {
    "name": "ipython",
    "version": 3
   },
   "file_extension": ".py",
   "mimetype": "text/x-python",
   "name": "python",
   "nbconvert_exporter": "python",
   "pygments_lexer": "ipython3",
   "version": "3.8.8"
  }
 },
 "nbformat": 4,
 "nbformat_minor": 5
}
